{
 "cells": [
  {
   "cell_type": "code",
   "execution_count": 1,
   "metadata": {},
   "outputs": [],
   "source": [
    "import numpy as np"
   ]
  },
  {
   "cell_type": "code",
   "execution_count": 2,
   "metadata": {},
   "outputs": [],
   "source": [
    "# some 2 dimensional data\n",
    "data = np.array([[ 1.23571758,  1.47666206],\n",
    "                 [ 0.40451215, -0.01062741],\n",
    "                 [ 1.71635348,  0.83296132],\n",
    "                 [ 0.84367405,  1.00105918],\n",
    "                 [ 0.63970563,  1.20272671],\n",
    "                 [-1.05641853, -1.35545403],\n",
    "                 [-1.07020579, -0.8394209 ],\n",
    "                 [-1.81826175, -2.27345278],\n",
    "                 [-1.99607591,  1.89867684],\n",
    "                 [-2.56067124,  1.67201533],\n",
    "                 [-1.71249107,  2.09671069],\n",
    "                 [-1.75201349,  2.27671946]])"
   ]
  },
  {
   "cell_type": "code",
   "execution_count": 3,
   "metadata": {},
   "outputs": [
    {
     "name": "stdout",
     "output_type": "stream",
     "text": [
      "0 [2 2 2 2 2 0 0 0 1 1 1 1]\n"
     ]
    }
   ],
   "source": [
    "# find a kmeans clustering of our data for the given k\n",
    "# return the assignment of each row to some cluster 0 .. k-1\n",
    "def kmeans(data, k = 3): \n",
    "    \n",
    "    (rows,cols) = data.shape\n",
    "    \n",
    "\n",
    "    \n",
    "    # select k random points from dataset\n",
    "    indices = np.random.choice(data.shape[0], k, replace=False)\n",
    "    centers= data[indices]\n",
    "    \n",
    "    converge= False\n",
    "\n",
    "    # assignining each data poiants to -1 cluster\n",
    "    oldassignments = np.zeros(rows, dtype=np.int) - 1 \n",
    "\n",
    "    while(not converge):\n",
    "        # assigning clusters to each data point, which is index of centers\n",
    "        assignments = np.array([np.argmin(np.sqrt(np.sum((data[i]-centers)**2,axis=1))) for i in range(len(data))])\n",
    "        # update state the centroid using mean of each cluster\n",
    "        for j in range(k):     \n",
    "            total = np.zeros(cols)\n",
    "            count=0\n",
    "            for i in range(len(assignments)):                                    \n",
    "                if assignments[i]==j:\n",
    "                     total += data[i]\n",
    "                     count+=1\n",
    "\n",
    "\n",
    "            centers[j] = total/count\n",
    "        #print(assignments, oldassignments)\n",
    "        # Check old cluster assignment and new cluster assignment has canged or not for each data points\n",
    "        if (oldassignments == assignments).all():\n",
    "            converge= True\n",
    "        else:\n",
    "            #print((oldassignments-assignments).sum())\n",
    "            oldassignments=assignments.copy()\n",
    "\n",
    "\n",
    "    return assignments\n",
    "\n",
    "\n",
    "# make it sort of reproducible\n",
    "np.random.seed(1234)\n",
    "\n",
    "# call our function multiple times\n",
    "totaliter = 1\n",
    "for k in range(totaliter):\n",
    "\n",
    "    # correct answer is somethihg like [1 1 1 1 1 2 2 2 0 0 0 0]\n",
    "    assignments = kmeans(data)\n",
    "     \n",
    "    print(k, assignments)\n"
   ]
  }
 ],
 "metadata": {
  "kernelspec": {
   "display_name": "Python 3",
   "language": "python",
   "name": "python3"
  },
  "language_info": {
   "codemirror_mode": {
    "name": "ipython",
    "version": 3
   },
   "file_extension": ".py",
   "mimetype": "text/x-python",
   "name": "python",
   "nbconvert_exporter": "python",
   "pygments_lexer": "ipython3",
   "version": "3.6.5"
  }
 },
 "nbformat": 4,
 "nbformat_minor": 2
}
